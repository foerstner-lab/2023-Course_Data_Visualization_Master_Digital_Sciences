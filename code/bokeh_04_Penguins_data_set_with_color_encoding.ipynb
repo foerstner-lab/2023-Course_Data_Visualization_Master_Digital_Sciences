{
 "cells": [
  {
   "cell_type": "code",
   "execution_count": 3,
   "id": "a02b6a82",
   "metadata": {},
   "outputs": [],
   "source": [
    "# Imports\n",
    "from bokeh.plotting import figure, show\n",
    "import pandas as pd\n",
    "from bokeh.models import ColumnDataSource\n",
    "from bokeh.models import LassoSelectTool, HoverTool\n",
    "from bokeh.transform import linear_cmap"
   ]
  },
  {
   "cell_type": "code",
   "execution_count": 4,
   "id": "e9971902",
   "metadata": {},
   "outputs": [],
   "source": [
    "penguin_url = \"https://raw.githubusercontent.com/mwaskom/seaborn-data/master/penguins.csv\""
   ]
  },
  {
   "cell_type": "code",
   "execution_count": 5,
   "id": "9820a1b1",
   "metadata": {},
   "outputs": [],
   "source": [
    "# Load dataset to pandas dataframe\n",
    "penguin_data = pd.read_csv(penguin_url)"
   ]
  },
  {
   "cell_type": "code",
   "execution_count": 6,
   "id": "e9c1ba3b",
   "metadata": {},
   "outputs": [],
   "source": [
    "# Convert dataframe to Bokeh's data model\n",
    "penguin_cds = ColumnDataSource(penguin_data)"
   ]
  },
  {
   "cell_type": "code",
   "execution_count": 7,
   "id": "549836e7",
   "metadata": {},
   "outputs": [],
   "source": [
    "# Initialize the figure object with title\n",
    "p_hover = figure(title=\"Figure including hover tool\")"
   ]
  },
  {
   "cell_type": "code",
   "execution_count": 8,
   "id": "8e025675",
   "metadata": {},
   "outputs": [],
   "source": [
    "# Initialize the hover tool object with titles and column names in the dataset\n",
    "hover_tool = HoverTool(tooltips=[(\"Bill length [mm]\", \"@bill_length_mm\"),\n",
    "                                 (\"Bill depth [mm]\", \"@bill_depth_mm\"),\n",
    "                                 (\"Body mass [g]\", \"@body_mass_g\"),\n",
    "                                 (\"Species\", \"@species\")])"
   ]
  },
  {
   "cell_type": "code",
   "execution_count": 9,
   "id": "32bd0bb4",
   "metadata": {},
   "outputs": [],
   "source": [
    "# Add an overlay of the hover tool to the figure object\n",
    "p_hover.add_tools(hover_tool)"
   ]
  },
  {
   "cell_type": "code",
   "execution_count": 10,
   "id": "adea036b",
   "metadata": {},
   "outputs": [
    {
     "data": {
      "text/html": [
       "<div style=\"display: table;\"><div style=\"display: table-row;\"><div style=\"display: table-cell;\"><b title=\"bokeh.models.renderers.glyph_renderer.GlyphRenderer\">GlyphRenderer</b>(</div><div style=\"display: table-cell;\">id&nbsp;=&nbsp;'p1060', <span id=\"p1064\" style=\"cursor: pointer;\">&hellip;)</span></div></div><div class=\"p1063\" style=\"display: none;\"><div style=\"display: table-cell;\"></div><div style=\"display: table-cell;\">coordinates&nbsp;=&nbsp;None,</div></div><div class=\"p1063\" style=\"display: none;\"><div style=\"display: table-cell;\"></div><div style=\"display: table-cell;\">data_source&nbsp;=&nbsp;ColumnDataSource(id='p1001', ...),</div></div><div class=\"p1063\" style=\"display: none;\"><div style=\"display: table-cell;\"></div><div style=\"display: table-cell;\">glyph&nbsp;=&nbsp;Circle(id='p1057', ...),</div></div><div class=\"p1063\" style=\"display: none;\"><div style=\"display: table-cell;\"></div><div style=\"display: table-cell;\">group&nbsp;=&nbsp;None,</div></div><div class=\"p1063\" style=\"display: none;\"><div style=\"display: table-cell;\"></div><div style=\"display: table-cell;\">hover_glyph&nbsp;=&nbsp;None,</div></div><div class=\"p1063\" style=\"display: none;\"><div style=\"display: table-cell;\"></div><div style=\"display: table-cell;\">js_event_callbacks&nbsp;=&nbsp;{},</div></div><div class=\"p1063\" style=\"display: none;\"><div style=\"display: table-cell;\"></div><div style=\"display: table-cell;\">js_property_callbacks&nbsp;=&nbsp;{},</div></div><div class=\"p1063\" style=\"display: none;\"><div style=\"display: table-cell;\"></div><div style=\"display: table-cell;\">level&nbsp;=&nbsp;'glyph',</div></div><div class=\"p1063\" style=\"display: none;\"><div style=\"display: table-cell;\"></div><div style=\"display: table-cell;\">muted&nbsp;=&nbsp;False,</div></div><div class=\"p1063\" style=\"display: none;\"><div style=\"display: table-cell;\"></div><div style=\"display: table-cell;\">muted_glyph&nbsp;=&nbsp;Circle(id='p1059', ...),</div></div><div class=\"p1063\" style=\"display: none;\"><div style=\"display: table-cell;\"></div><div style=\"display: table-cell;\">name&nbsp;=&nbsp;None,</div></div><div class=\"p1063\" style=\"display: none;\"><div style=\"display: table-cell;\"></div><div style=\"display: table-cell;\">nonselection_glyph&nbsp;=&nbsp;Circle(id='p1058', ...),</div></div><div class=\"p1063\" style=\"display: none;\"><div style=\"display: table-cell;\"></div><div style=\"display: table-cell;\">propagate_hover&nbsp;=&nbsp;False,</div></div><div class=\"p1063\" style=\"display: none;\"><div style=\"display: table-cell;\"></div><div style=\"display: table-cell;\">selection_glyph&nbsp;=&nbsp;'auto',</div></div><div class=\"p1063\" style=\"display: none;\"><div style=\"display: table-cell;\"></div><div style=\"display: table-cell;\">subscribed_events&nbsp;=&nbsp;PropertyValueSet(),</div></div><div class=\"p1063\" style=\"display: none;\"><div style=\"display: table-cell;\"></div><div style=\"display: table-cell;\">syncable&nbsp;=&nbsp;True,</div></div><div class=\"p1063\" style=\"display: none;\"><div style=\"display: table-cell;\"></div><div style=\"display: table-cell;\">tags&nbsp;=&nbsp;[],</div></div><div class=\"p1063\" style=\"display: none;\"><div style=\"display: table-cell;\"></div><div style=\"display: table-cell;\">view&nbsp;=&nbsp;CDSView(id='p1061', ...),</div></div><div class=\"p1063\" style=\"display: none;\"><div style=\"display: table-cell;\"></div><div style=\"display: table-cell;\">visible&nbsp;=&nbsp;True,</div></div><div class=\"p1063\" style=\"display: none;\"><div style=\"display: table-cell;\"></div><div style=\"display: table-cell;\">x_range_name&nbsp;=&nbsp;'default',</div></div><div class=\"p1063\" style=\"display: none;\"><div style=\"display: table-cell;\"></div><div style=\"display: table-cell;\">y_range_name&nbsp;=&nbsp;'default')</div></div></div>\n",
       "<script>\n",
       "(function() {\n",
       "  let expanded = false;\n",
       "  const ellipsis = document.getElementById(\"p1064\");\n",
       "  ellipsis.addEventListener(\"click\", function() {\n",
       "    const rows = document.getElementsByClassName(\"p1063\");\n",
       "    for (let i = 0; i < rows.length; i++) {\n",
       "      const el = rows[i];\n",
       "      el.style.display = expanded ? \"none\" : \"table-row\";\n",
       "    }\n",
       "    ellipsis.innerHTML = expanded ? \"&hellip;)\" : \"&lsaquo;&lsaquo;&lsaquo;\";\n",
       "    expanded = !expanded;\n",
       "  });\n",
       "})();\n",
       "</script>\n"
      ],
      "text/plain": [
       "GlyphRenderer(id='p1060', ...)"
      ]
     },
     "execution_count": 10,
     "metadata": {},
     "output_type": "execute_result"
    }
   ],
   "source": [
    "# Plot circles with color map\n",
    "p_hover.circle(source=penguin_cds, x=\"bill_length_mm\", y=\"bill_depth_mm\", \n",
    "               color=linear_cmap(\"bill_length_mm\", \"Viridis256\", 0, 50))"
   ]
  },
  {
   "cell_type": "code",
   "execution_count": 11,
   "id": "4ac76e3e",
   "metadata": {},
   "outputs": [
    {
     "name": "stdout",
     "output_type": "stream",
     "text": [
      "Opening in existing browser session.\n"
     ]
    }
   ],
   "source": [
    "show(p_hover)"
   ]
  },
  {
   "cell_type": "code",
   "execution_count": null,
   "id": "3f57f4f1-9915-43a2-8365-2e2d9d0b5cbb",
   "metadata": {},
   "outputs": [],
   "source": []
  },
  {
   "cell_type": "code",
   "execution_count": null,
   "id": "30f0b96c-44d2-465d-b162-5a1c9e0d589f",
   "metadata": {},
   "outputs": [],
   "source": []
  },
  {
   "cell_type": "code",
   "execution_count": null,
   "id": "9c32f9e1-0010-406a-a2f7-9fcf2b920c43",
   "metadata": {},
   "outputs": [],
   "source": []
  },
  {
   "cell_type": "code",
   "execution_count": null,
   "id": "2846c68a-02d1-4ece-ace3-5b0716b091d5",
   "metadata": {},
   "outputs": [],
   "source": []
  },
  {
   "cell_type": "code",
   "execution_count": null,
   "id": "1d278b0b-131c-4f5e-b445-66cd799949da",
   "metadata": {},
   "outputs": [],
   "source": []
  },
  {
   "cell_type": "code",
   "execution_count": null,
   "id": "19b766c0-13cf-4b75-9dd9-8606707e4fbf",
   "metadata": {},
   "outputs": [],
   "source": []
  }
 ],
 "metadata": {
  "kernelspec": {
   "display_name": "Python 3 (ipykernel)",
   "language": "python",
   "name": "python3"
  },
  "language_info": {
   "codemirror_mode": {
    "name": "ipython",
    "version": 3
   },
   "file_extension": ".py",
   "mimetype": "text/x-python",
   "name": "python",
   "nbconvert_exporter": "python",
   "pygments_lexer": "ipython3",
   "version": "3.11.3"
  }
 },
 "nbformat": 4,
 "nbformat_minor": 5
}
