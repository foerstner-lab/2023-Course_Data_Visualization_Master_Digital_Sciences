{
 "cells": [
  {
   "cell_type": "markdown",
   "id": "36e24827",
   "metadata": {},
   "source": [
    "This helps to randomly pick visualization types which are then presented by the participants."
   ]
  },
  {
   "cell_type": "code",
   "execution_count": 1,
   "id": "d0318e71",
   "metadata": {},
   "outputs": [],
   "source": [
    "import random\n",
    "\n",
    "visualization_types_str = \"\"\"\n",
    "    Boxplot\n",
    "    Histogram\n",
    "    Swarmplot\n",
    "    Violin\n",
    "    1D Density\n",
    "    Ridgeline\n",
    "    Scatterplot\n",
    "    Correlogram\n",
    "    Bubble\n",
    "    Scatter\n",
    "    2D Density\n",
    "    Heatmap\n",
    "    Barplot\n",
    "    Radar / Spider\n",
    "    Wordcloud\n",
    "    Parallel\n",
    "    Pie\n",
    "    Donut\n",
    "    Circular Barplot\n",
    "    Treemap\n",
    "    Venn Diagram\n",
    "    Dendrogram\n",
    "    Line chart\n",
    "    Area chart\n",
    "    Map\n",
    "    Hexbin\n",
    "    Chord Diagram\n",
    "    Network\n",
    "    Hive\n",
    "    Sankey\n",
    "    Arc Diagram\n",
    "    Edge Bundling\n",
    "\"\"\"\n",
    "\n",
    "visualization_types = visualization_types_str.splitlines()\n",
    "visualization_types = [viz_type.strip() for viz_type in visualization_types]"
   ]
  },
  {
   "cell_type": "code",
   "execution_count": 2,
   "id": "c9bbea62",
   "metadata": {},
   "outputs": [
    {
     "data": {
      "text/plain": [
       "'Treemap'"
      ]
     },
     "execution_count": 2,
     "metadata": {},
     "output_type": "execute_result"
    }
   ],
   "source": [
    "# Rerun this cell to get a random visualization type\n",
    "random.choice(visualization_types)"
   ]
  }
 ],
 "metadata": {
  "kernelspec": {
   "display_name": "Python 3 (ipykernel)",
   "language": "python",
   "name": "python3"
  },
  "language_info": {
   "codemirror_mode": {
    "name": "ipython",
    "version": 3
   },
   "file_extension": ".py",
   "mimetype": "text/x-python",
   "name": "python",
   "nbconvert_exporter": "python",
   "pygments_lexer": "ipython3",
   "version": "3.10.3"
  }
 },
 "nbformat": 4,
 "nbformat_minor": 5
}
